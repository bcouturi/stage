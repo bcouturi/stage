{
 "cells": [
  {
   "cell_type": "code",
   "execution_count": 7,
   "id": "7a9bbd3c",
   "metadata": {},
   "outputs": [
    {
     "ename": "KeyboardInterrupt",
     "evalue": "",
     "output_type": "error",
     "traceback": [
      "\u001b[0;31m---------------------------------------------------------------------------\u001b[0m",
      "\u001b[0;31mKeyboardInterrupt\u001b[0m                         Traceback (most recent call last)",
      "Cell \u001b[0;32mIn[7], line 39\u001b[0m\n\u001b[1;32m     35\u001b[0m     r2 \u001b[38;5;241m=\u001b[39m np\u001b[38;5;241m.\u001b[39mlinspace(ymin, ymax, height)\n\u001b[1;32m     36\u001b[0m     \u001b[38;5;28;01mreturn\u001b[39;00m (r1, r2, [mandelbrot(\u001b[38;5;28mcomplex\u001b[39m(r, i), maxiter) \u001b[38;5;28;01mfor\u001b[39;00m r \u001b[38;5;129;01min\u001b[39;00m r1 \u001b[38;5;28;01mfor\u001b[39;00m i \u001b[38;5;129;01min\u001b[39;00m r2])\n\u001b[0;32m---> 39\u001b[0m timeit;\u001b[43ma\u001b[49m\u001b[43m(\u001b[49m\u001b[38;5;241;43m-\u001b[39;49m\u001b[38;5;241;43m2.0\u001b[39;49m\u001b[43m,\u001b[49m\u001b[43m \u001b[49m\u001b[38;5;241;43m0.5\u001b[39;49m\u001b[43m,\u001b[49m\u001b[43m \u001b[49m\u001b[38;5;241;43m-\u001b[39;49m\u001b[38;5;241;43m1.25\u001b[39;49m\u001b[43m,\u001b[49m\u001b[43m \u001b[49m\u001b[38;5;241;43m1.25\u001b[39;49m\u001b[43m,\u001b[49m\u001b[43m \u001b[49m\u001b[38;5;241;43m1000\u001b[39;49m\u001b[43m,\u001b[49m\u001b[43m \u001b[49m\u001b[38;5;241;43m1000\u001b[39;49m\u001b[43m,\u001b[49m\u001b[43m \u001b[49m\u001b[38;5;241;43m80\u001b[39;49m\u001b[43m)\u001b[49m\n\u001b[1;32m     42\u001b[0m timeit;a(\u001b[38;5;241m-\u001b[39m\u001b[38;5;241m0.74877\u001b[39m, \u001b[38;5;241m-\u001b[39m\u001b[38;5;241m0.74872\u001b[39m, \u001b[38;5;241m0.06505\u001b[39m, \u001b[38;5;241m0.06510\u001b[39m, \u001b[38;5;241m1000\u001b[39m, \u001b[38;5;241m1000\u001b[39m, \u001b[38;5;241m2048\u001b[39m)\n\u001b[1;32m     45\u001b[0m \u001b[38;5;28;01mdef\u001b[39;00m \u001b[38;5;21mmandelbrot\u001b[39m(c, maxiter):\n",
      "Cell \u001b[0;32mIn[7], line 36\u001b[0m, in \u001b[0;36ma\u001b[0;34m(xmin, xmax, ymin, ymax, width, height, maxiter)\u001b[0m\n\u001b[1;32m     34\u001b[0m r1 \u001b[38;5;241m=\u001b[39m np\u001b[38;5;241m.\u001b[39mlinspace(xmin, xmax, width)\n\u001b[1;32m     35\u001b[0m r2 \u001b[38;5;241m=\u001b[39m np\u001b[38;5;241m.\u001b[39mlinspace(ymin, ymax, height)\n\u001b[0;32m---> 36\u001b[0m \u001b[38;5;28;01mreturn\u001b[39;00m (r1, r2, [mandelbrot(\u001b[38;5;28mcomplex\u001b[39m(r, i), maxiter) \u001b[38;5;28;01mfor\u001b[39;00m r \u001b[38;5;129;01min\u001b[39;00m r1 \u001b[38;5;28;01mfor\u001b[39;00m i \u001b[38;5;129;01min\u001b[39;00m r2])\n",
      "Cell \u001b[0;32mIn[7], line 36\u001b[0m, in \u001b[0;36m<listcomp>\u001b[0;34m(.0)\u001b[0m\n\u001b[1;32m     34\u001b[0m r1 \u001b[38;5;241m=\u001b[39m np\u001b[38;5;241m.\u001b[39mlinspace(xmin, xmax, width)\n\u001b[1;32m     35\u001b[0m r2 \u001b[38;5;241m=\u001b[39m np\u001b[38;5;241m.\u001b[39mlinspace(ymin, ymax, height)\n\u001b[0;32m---> 36\u001b[0m \u001b[38;5;28;01mreturn\u001b[39;00m (r1, r2, [\u001b[43mmandelbrot\u001b[49m\u001b[43m(\u001b[49m\u001b[38;5;28;43mcomplex\u001b[39;49m\u001b[43m(\u001b[49m\u001b[43mr\u001b[49m\u001b[43m,\u001b[49m\u001b[43m \u001b[49m\u001b[43mi\u001b[49m\u001b[43m)\u001b[49m\u001b[43m,\u001b[49m\u001b[43m \u001b[49m\u001b[43mmaxiter\u001b[49m\u001b[43m)\u001b[49m \u001b[38;5;28;01mfor\u001b[39;00m r \u001b[38;5;129;01min\u001b[39;00m r1 \u001b[38;5;28;01mfor\u001b[39;00m i \u001b[38;5;129;01min\u001b[39;00m r2])\n",
      "Cell \u001b[0;32mIn[7], line 27\u001b[0m, in \u001b[0;36mmandelbrot\u001b[0;34m(z, maxiter)\u001b[0m\n\u001b[1;32m     25\u001b[0m c \u001b[38;5;241m=\u001b[39m z\n\u001b[1;32m     26\u001b[0m \u001b[38;5;28;01mfor\u001b[39;00m n \u001b[38;5;129;01min\u001b[39;00m \u001b[38;5;28mrange\u001b[39m(maxiter):\n\u001b[0;32m---> 27\u001b[0m     \u001b[38;5;28;01mif\u001b[39;00m \u001b[38;5;28;43mabs\u001b[39;49m\u001b[43m(\u001b[49m\u001b[43mz\u001b[49m\u001b[43m)\u001b[49m \u001b[38;5;241m>\u001b[39m \u001b[38;5;241m2\u001b[39m:\n\u001b[1;32m     28\u001b[0m         \u001b[38;5;28;01mreturn\u001b[39;00m n\n\u001b[1;32m     29\u001b[0m     z \u001b[38;5;241m=\u001b[39m z \u001b[38;5;241m*\u001b[39m z \u001b[38;5;241m+\u001b[39m c\n",
      "\u001b[0;31mKeyboardInterrupt\u001b[0m: "
     ]
    }
   ],
   "source": [
    "import numpy as np\n",
    "from matplotlib import pyplot as plt\n",
    "from matplotlib import colors\n",
    "import timeit \n",
    "\n",
    "\n",
    "def mandelbrot_image(xmin, xmax, ymin, ymax, width=3, height=3, maxiter=80, cmap=\"hot\"):\n",
    "    dpi = 18\n",
    "    img_width = dpi * width\n",
    "    img_height = dpi * height\n",
    "    x, y, z = mandelbrot_set(xmin, xmax, ymin, ymax, img_width, img_height, maxiter)\n",
    "\n",
    "    fig, ax = plt.subplots(figsize=(width, height), dpi=72)\n",
    "    ticks = np.arange(0, img_width, 3 * dpi)\n",
    "    x_ticks = xmin + (xmax - xmin) * ticks / img_width\n",
    "    plt.xticks(ticks, x_ticks)\n",
    "    y_ticks = ymin + (ymax - ymin) * ticks / img_width\n",
    "    plt.yticks(ticks, y_ticks)\n",
    "\n",
    "    norm = colors.PowerNorm(0.3)\n",
    "    ax.imshow(z.T, cmap=cmap, origin=\"lower\", norm=norm)\n",
    "\n",
    "\n",
    "def mandelbrot(z, maxiter):\n",
    "    c = z\n",
    "    for n in range(maxiter):\n",
    "        if abs(z) > 2:\n",
    "            return n\n",
    "        z = z * z + c\n",
    "    return maxiter\n",
    "\n",
    "\n",
    "def a(xmin, xmax, ymin, ymax, width, height, maxiter):\n",
    "    r1 = np.linspace(xmin, xmax, width)\n",
    "    r2 = np.linspace(ymin, ymax, height)\n",
    "    return (r1, r2, [mandelbrot(complex(r, i), maxiter) for r in r1 for i in r2])\n",
    "\n",
    "\n",
    "timeit;a(-2.0, 0.5, -1.25, 1.25, 1000, 1000, 80)\n",
    "\n",
    "\n",
    "timeit;a(-0.74877, -0.74872, 0.06505, 0.06510, 1000, 1000, 2048)\n",
    "\n",
    "\n",
    "def mandelbrot(c, maxiter):\n",
    "    for n in range(maxiter):\n",
    "        c = z\n",
    "        if abs(z) > 2:\n",
    "            return n\n",
    "        z = z * z + c\n",
    "    return 0\n",
    "\n",
    "\n",
    "def mandelbrot_set(xmin, xmax, ymin, ymax, width, height, maxiter):\n",
    "    r1 = np.linspace(xmin, xmax, width)\n",
    "    r2 = np.linspace(ymin, ymax, height)\n",
    "    n3 = np.empty((width, height))\n",
    "    for i in range(width):\n",
    "        for j in range(height):\n",
    "            n3[i, j] = mandelbrot(r1[i] + 1j * r2[j], maxiter)\n",
    "    return (r1, r2, n3)\n",
    "\n",
    "\n",
    "timeit;mandelbrot_set(-2.0, 0.5, -1.25, 1.25, 1000, 1000, 10)\n",
    "\n",
    "\n",
    "timeit;mandelbrot_set(-0.74877, -0.74872, 0.06505, 0.06510, 1000, 1000, 2048)\n",
    "\n",
    "mandelbrot_image(-2.0, 0.5, -1.25, 1.25, maxiter=80, cmap=\"gnuplot2\")\n",
    "\n",
    "mandelbrot_image(-0.74877, -0.74872, 0.06505, 0.06510, maxiter=2048, cmap=\"gnuplot2\")\n",
    "\n",
    "\n",
    "\n"
   ]
  },
  {
   "cell_type": "code",
   "execution_count": null,
   "id": "d75b4295",
   "metadata": {},
   "outputs": [],
   "source": []
  },
  {
   "cell_type": "code",
   "execution_count": null,
   "id": "d23c005b",
   "metadata": {},
   "outputs": [],
   "source": [
    "\n"
   ]
  },
  {
   "cell_type": "code",
   "execution_count": null,
   "id": "a7cd5ac1",
   "metadata": {},
   "outputs": [],
   "source": []
  },
  {
   "cell_type": "code",
   "execution_count": null,
   "id": "5f17a345",
   "metadata": {},
   "outputs": [],
   "source": []
  },
  {
   "cell_type": "code",
   "execution_count": null,
   "id": "942da066",
   "metadata": {},
   "outputs": [],
   "source": []
  },
  {
   "cell_type": "code",
   "execution_count": null,
   "id": "40f5fe29",
   "metadata": {},
   "outputs": [],
   "source": []
  },
  {
   "cell_type": "code",
   "execution_count": null,
   "id": "fd0305ed",
   "metadata": {},
   "outputs": [],
   "source": []
  }
 ],
 "metadata": {
  "kernelspec": {
   "display_name": "Python 3 (ipykernel)",
   "language": "python",
   "name": "python3"
  },
  "language_info": {
   "codemirror_mode": {
    "name": "ipython",
    "version": 3
   },
   "file_extension": ".py",
   "mimetype": "text/x-python",
   "name": "python",
   "nbconvert_exporter": "python",
   "pygments_lexer": "ipython3",
   "version": "3.10.10"
  }
 },
 "nbformat": 4,
 "nbformat_minor": 5
}
